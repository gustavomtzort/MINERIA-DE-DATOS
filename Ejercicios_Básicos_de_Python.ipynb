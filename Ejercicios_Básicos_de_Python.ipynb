{
  "nbformat": 4,
  "nbformat_minor": 0,
  "metadata": {
    "colab": {
      "name": "Ejercicios Básicos de Python.ipynb",
      "provenance": [],
      "collapsed_sections": [],
      "authorship_tag": "ABX9TyNV1NZ+lFUbPPrcmqXhFoeF",
      "include_colab_link": true
    },
    "kernelspec": {
      "name": "python3",
      "display_name": "Python 3"
    },
    "language_info": {
      "name": "python"
    }
  },
  "cells": [
    {
      "cell_type": "markdown",
      "metadata": {
        "id": "view-in-github",
        "colab_type": "text"
      },
      "source": [
        "<a href=\"https://colab.research.google.com/github/gustavomtzort/MINERIA-DE-DATOS/blob/main/Ejercicios_B%C3%A1sicos_de_Python.ipynb\" target=\"_parent\"><img src=\"https://colab.research.google.com/assets/colab-badge.svg\" alt=\"Open In Colab\"/></a>"
      ]
    },
    {
      "cell_type": "code",
      "metadata": {
        "colab": {
          "base_uri": "https://localhost:8080/"
        },
        "id": "BUFCtM3zV9JQ",
        "outputId": "61504ee8-1f01-40e1-de5a-d0c41c7448b6"
      },
      "source": [
        "#EJERCICIO 1\n",
        "mat=int(input(\"Ingrese su matricula: \"))\n",
        "nom=str(input(\"Ingrese su nombre: \"))\n",
        "print(\"Datos: \",nom,mat)"
      ],
      "execution_count": 106,
      "outputs": [
        {
          "output_type": "stream",
          "text": [
            "Ingrese su matricula: 1877422\n",
            "Ingrese su nombre: Gustavo\n",
            "Datos:  Gustavo 1877422\n"
          ],
          "name": "stdout"
        }
      ]
    },
    {
      "cell_type": "code",
      "metadata": {
        "colab": {
          "base_uri": "https://localhost:8080/"
        },
        "id": "QXnIzdXGS9vU",
        "outputId": "8bf255ad-bb6c-4b0e-a025-6a43f1e1fe01"
      },
      "source": [
        "#EJERCICIO 2\n",
        "a=float(input(\"Introduce el numero a: \" ))\n",
        "b=float(input(\"Introduce el numero b: \"))\n",
        "sel1=0\n",
        "while sel1!= 1 and sel1!=2 and sel1!=3 and sel1!=4 and sel1!=5 :\n",
        "                sel1=int(input(\"Selecciona la operacion a realizar: \\n 1. Suma a + b \\n 2. Resta a - b \\n 3. Producto a x b \\n 4. Cociente a div b \\n 5. Potencia a^b \\n\"))\n",
        "if sel1==1:\n",
        "  print(\"La suma es: \",a+b)\n",
        "elif sel1==2:\n",
        "    print(\"La resta es: \",a-b)\n",
        "elif sel1==3:\n",
        "    print(\"El producto es: \",a*b)\n",
        "elif sel1==4:\n",
        "    print(\"El cociente es: \",a/b)\n",
        "elif sel1==5:\n",
        "    print(\"El resultado es:  \",a**b)    \n"
      ],
      "execution_count": 67,
      "outputs": [
        {
          "output_type": "stream",
          "text": [
            "Introduce el numero a: 1\n",
            "Introduce el numero b: 2\n",
            "Selecciona la operacion a realizar: \n",
            " 1. Suma a + b \n",
            " 2. Resta a - b \n",
            " 3. Producto a x b \n",
            " 4. Cociente a div b \n",
            " 5. Potencia a^b \n",
            "4\n",
            "El cociente es:  0.5\n"
          ],
          "name": "stdout"
        }
      ]
    },
    {
      "cell_type": "code",
      "metadata": {
        "colab": {
          "base_uri": "https://localhost:8080/"
        },
        "id": "nuf2UH4GTCsK",
        "outputId": "82ab0801-a8cd-45a4-a548-7a349a40177e"
      },
      "source": [
        "#EJERCICIO 3\n",
        "import numpy as np\n",
        "a=[random.randint(0,0) for _ in range(10)]\n",
        "for i in range(1,11):\n",
        "  a[i-1]=3*i\n",
        "  print(a[i-1])\n",
        "suma=0\n",
        "for i in range(1,11):\n",
        "  suma=suma+a[i-1]\n",
        "print(\"La suma es \",suma)\n"
      ],
      "execution_count": 76,
      "outputs": [
        {
          "output_type": "stream",
          "text": [
            "3\n",
            "6\n",
            "9\n",
            "12\n",
            "15\n",
            "18\n",
            "21\n",
            "24\n",
            "27\n",
            "30\n",
            "La suma es  165\n"
          ],
          "name": "stdout"
        }
      ]
    },
    {
      "cell_type": "code",
      "metadata": {
        "colab": {
          "base_uri": "https://localhost:8080/"
        },
        "id": "hBy85CPUT7ot",
        "outputId": "3956a60e-8e5b-4a65-a174-e52f99e51bcb"
      },
      "source": [
        "#EJERCICIO 4\n",
        "num=int(input(\"Introduzca un numero: \"))\n",
        "if num % 2 ==0:\n",
        "  print(num, \"Es un numero par\")\n",
        "elif num % 2 != 0: \n",
        "  print(num, \"Es impar\")\n",
        "\n",
        "var=0\n",
        "for i in range(2,num-1):\n",
        "  \n",
        "  if num%i ==0:\n",
        "    var = 1\n",
        "    \n",
        "\n",
        "if var == 0:\n",
        "  print(num, \"es primo\")\n",
        "elif var == 1: \n",
        "  print(num, \"no es primo\")\n"
      ],
      "execution_count": 103,
      "outputs": [
        {
          "output_type": "stream",
          "text": [
            "Introduzca un numero: 97\n",
            "97 Es impar\n",
            "97 es primo\n"
          ],
          "name": "stdout"
        }
      ]
    },
    {
      "cell_type": "code",
      "metadata": {
        "colab": {
          "base_uri": "https://localhost:8080/"
        },
        "id": "7hCEEUh4UAPS",
        "outputId": "3f6572ec-32c8-4c17-86a5-258af6063322"
      },
      "source": [
        "#EJERCICIO 5\n",
        "a=float(input(\"Introduce el numero a: \" ))\n",
        "b=float(input(\"Introduce el numero b: \"))\n",
        "sel1=0\n",
        "while sel1!= 1 and sel1!=2 and sel1!=3 and sel1!=4 and sel1!=5 :\n",
        "                sel1=int(input(\"Selecciona la operacion a realizar: \\n 1. Suma a + b \\n 2. Resta a - b \\n 3. Producto a x b \\n 4. Cociente a div b \\n 5. Potencia a^b \\n\"))\n",
        "if sel1==1:\n",
        "  print(\"La suma es: \",a+b)\n",
        "elif sel1==2:\n",
        "    print(\"La resta es: \",a-b)\n",
        "elif sel1==3:\n",
        "    print(\"El producto es: \",a*b)\n",
        "elif sel1==4:\n",
        "    print(\"El cociente es: \",a/b)\n",
        "elif sel1==5:\n",
        "    print(\"El resultado es:  \",a**b)  \n"
      ],
      "execution_count": 104,
      "outputs": [
        {
          "output_type": "stream",
          "text": [
            "Introduce el numero a: 1\n",
            "Introduce el numero b: 2\n",
            "Selecciona la operacion a realizar: \n",
            " 1. Suma a + b \n",
            " 2. Resta a - b \n",
            " 3. Producto a x b \n",
            " 4. Cociente a div b \n",
            " 5. Potencia a^b \n",
            "5\n",
            "El resultado es:   1.0\n"
          ],
          "name": "stdout"
        }
      ]
    },
    {
      "cell_type": "code",
      "metadata": {
        "colab": {
          "base_uri": "https://localhost:8080/"
        },
        "id": "6N_zMI6SWjYA",
        "outputId": "5c9a228c-38d5-442d-d54b-154a062af30e"
      },
      "source": [
        "#Crear una variable flotante, integer, boleana y compleja e imprimir el tipo de variable que es.\n",
        "x=float(3.5)\n",
        "y=int(2)\n",
        "z=\"Hola Mundo\"\n",
        "print(type(x))\n",
        "print(type(y))\n",
        "print(type(z))\n",
        "#Crear una tupla con valores enteros imprimir el primer y ultimo valor.\n",
        "a=1+2\n",
        "b=(a,1,2,\"Hola Mundo\",\"perro\",1.65)\n",
        "print(b[0],b[len(b)-1])\n",
        "#Añadir 3 valores de string a la tupla.\n",
        "b=b+(\"Hola\",\"Como\",\"Estas\")\n",
        "print(b)\n",
        "#Verificar si una variable existe dentro de la tupla.\n",
        "check=input(\"Ingresa la variable a verificar:\")\n",
        "ind=0\n",
        "check=str(check)\n",
        "for i in range(0,len(b)):\n",
        "  if check == str(b[i]):\n",
        "    ind=1\n",
        "if ind == 1:\n",
        "  print(\"La variable se encuentra en la tupla\")\n",
        "if ind==0:\n",
        "  print(\"La variable no se encuentra en la tupla\") \n",
        "\n",
        "if check in str(b):\n",
        "  print(\"La variable se encuentra en la tupla\")\n",
        "elif check not in b:\n",
        "   print(\"La variable no se encuentra en la tupla\")\n",
        "\n"
      ],
      "execution_count": null,
      "outputs": [
        {
          "output_type": "stream",
          "text": [
            "<class 'float'>\n",
            "<class 'int'>\n",
            "<class 'str'>\n",
            "3 1.65\n",
            "(3, 1, 2, 'Hola Mundo', 'perro', 1.65, 'Hola', 'Como', 'Estas')\n",
            "Ingresa la variable a verificar:perro\n",
            "La variable se encuentra en la tupla\n",
            "La variable se encuentra en la tupla\n"
          ],
          "name": "stdout"
        }
      ]
    },
    {
      "cell_type": "code",
      "metadata": {
        "colab": {
          "base_uri": "https://localhost:8080/"
        },
        "id": "Jqvl7aWDk3kJ",
        "outputId": "5dc679f3-27d5-4c0b-fec7-5dd36216b95a"
      },
      "source": [
        "\n",
        "#Crear una lista con 40 elementos aleatorios enteros.\n",
        "import random\n",
        "lista=[random.randint(1,1000) for _ in range(40)]\n",
        "print(lista)\n",
        "#Con una funcion (def) crear dos listas nuevas a partir de la lista creada por numeros aleatorios, en la cual en una esten los elementos pares, y en la otra los elementos impares.\n",
        "def lista1(var):\n",
        "  x=[random.randint(0,0) for _ in range(40)]\n",
        "  z=0\n",
        "  if var==\"pares\":\n",
        "    for i in range(0,40):\n",
        "      if lista[i]%2==0:\n",
        "        x[z]=lista[i]\n",
        "        z=z+1\n",
        "  if var==\"impares\":\n",
        "    for i in range(0,40):\n",
        "      if lista[i]%2!=0:\n",
        "        x[z]=lista[i]\n",
        "        z=z+1\n",
        "  \n",
        "  for i in range(z,40):\n",
        "    x.pop(z) \n",
        "  return x\n",
        "\n",
        "pares=lista1(\"pares\")\n",
        "impares=lista1(\"impares\")\n",
        "print(\"Lista de pares: \",pares)\n",
        "print(\"Lista de impares: \",impares)\n",
        "\n",
        "#Crear dos variables con la longitud de ambas listas nuevas e imprimir las variables.\n",
        "nuevapares=[random.randint(1,1000) for _ in range(len(pares))]\n",
        "nuevaimpares=[random.randint(1,1000) for _ in range(len(impares))]\n",
        "print(\"Lista 1: \",nuevapares)\n",
        "print(\"Lista 2: \",nuevaimpares)\n",
        "x=len(pares)\n",
        "y=len(impares)\n",
        "print(\"Longitud pares: \",x,\"\\n Longitud impares: \",y)\n",
        "\n",
        "#Ordenar los elementos de la lista par de mayor a menor, y los de la lista impar de menor a mayor.\n",
        "pares.sort()\n",
        "print(pares)\n",
        "impares.sort(reverse=True)\n",
        "print(impares)\n",
        "\n",
        "#Utilizar al menos cuatro de las funciones de listas en python en la lista original de 40 elementos.\n",
        "lista.sort(reverse=True)\n",
        "print(lista)\n",
        "\n",
        "print(lista[1:4])\n",
        "lista.append(\"Nuevo\")\n",
        "print(lista)\n",
        "lista.pop(20)"
      ],
      "execution_count": 19,
      "outputs": [
        {
          "output_type": "stream",
          "text": [
            "[94, 761, 735, 872, 4, 427, 66, 890, 453, 851, 600, 364, 79, 671, 275, 926, 730, 877, 937, 709, 571, 82, 837, 149, 822, 117, 453, 674, 551, 896, 103, 84, 917, 963, 235, 412, 593, 917, 79, 506]\n",
            "Lista de pares:  [94, 872, 4, 66, 890, 600, 364, 926, 730, 82, 822, 674, 896, 84, 412, 506]\n",
            "Lista de impares:  [761, 735, 427, 453, 851, 79, 671, 275, 877, 937, 709, 571, 837, 149, 117, 453, 551, 103, 917, 963, 235, 593, 917, 79]\n",
            "Lista 1:  [553, 842, 972, 31, 136, 262, 343, 787, 358, 827, 563, 202, 410, 38, 1, 5]\n",
            "Lista 2:  [389, 613, 1000, 469, 111, 622, 706, 212, 684, 781, 230, 931, 187, 889, 207, 90, 863, 108, 327, 194, 514, 463, 725, 641]\n",
            "Longitud pares:  16 \n",
            " Longitud impares:  24\n",
            "[4, 66, 82, 84, 94, 364, 412, 506, 600, 674, 730, 822, 872, 890, 896, 926]\n",
            "[963, 937, 917, 917, 877, 851, 837, 761, 735, 709, 671, 593, 571, 551, 453, 453, 427, 275, 235, 149, 117, 103, 79, 79]\n",
            "[963, 937, 926, 917, 917, 896, 890, 877, 872, 851, 837, 822, 761, 735, 730, 709, 674, 671, 600, 593, 571, 551, 506, 453, 453, 427, 412, 364, 275, 235, 149, 117, 103, 94, 84, 82, 79, 79, 66, 4]\n",
            "[937, 926, 917]\n",
            "[963, 937, 926, 917, 917, 896, 890, 877, 872, 851, 837, 822, 761, 735, 730, 709, 674, 671, 600, 593, 571, 551, 506, 453, 453, 427, 412, 364, 275, 235, 149, 117, 103, 94, 84, 82, 79, 79, 66, 4, 'Nuevo']\n",
            "[963, 937, 926, 917, 917, 896, 890, 877, 872, 851, 837, 822, 761, 735, 730, 709, 674, 671, 600, 593, 551, 506, 453, 453, 427, 412, 364, 275, 235, 149, 117, 103, 94, 84, 82, 79, 79, 66, 4, 'Nuevo']\n"
          ],
          "name": "stdout"
        }
      ]
    },
    {
      "cell_type": "code",
      "metadata": {
        "colab": {
          "base_uri": "https://localhost:8080/"
        },
        "id": "z_IB3OviI5kf",
        "outputId": "ef2a71c2-6b9b-4e3f-e078-09f2f0968087"
      },
      "source": [
        "#Crear un diccionario de 6 personas que conozcas con su primer nombre y su edad.\n",
        "diccionario={'Gustavo':20,'Hector':20,'Sandra':21,'Ximena':19,'Aaron':20,'Eduardo':19}\n",
        "\n",
        "#Crear una lista con los valores de la edad y reacomodar la lista de menor a mayor valor.\n",
        "edades=list(diccionario.values())\n",
        "edades.sort()\n",
        "print(edades)\n",
        "#Usando el diccionario y un loop, imprimir solo los nombres.\n",
        "\n",
        "nombres=list(diccionario.keys())\n",
        "for i in range(0,len(nombres)):\n",
        "  print(nombres[i])\n",
        "\n",
        "#Añadir dos personas nuevas a tu diccionario, incluyendo edad.\n",
        "diccionario['Edgar']=18\n",
        "diccionario['Cesar']=20\n",
        "print(diccionario)"
      ],
      "execution_count": 66,
      "outputs": [
        {
          "output_type": "stream",
          "text": [
            "[19, 19, 20, 20, 20, 21]\n",
            "Gustavo\n",
            "Hector\n",
            "Sandra\n",
            "Ximena\n",
            "Aaron\n",
            "Eduardo\n",
            "{'Gustavo': 20, 'Hector': 20, 'Sandra': 21, 'Ximena': 19, 'Aaron': 20, 'Eduardo': 19, 'Edgar': 18, 'Cesar': 20}\n"
          ],
          "name": "stdout"
        }
      ]
    },
    {
      "cell_type": "code",
      "metadata": {
        "colab": {
          "base_uri": "https://localhost:8080/"
        },
        "id": "3SNDRF4QPR4O",
        "outputId": "01c435e4-804f-4e1e-bf0d-f0fb3e45a6ac"
      },
      "source": [
        "#Sets\n",
        "#Crea un set con 100 numeros aleatorios enteros del 1 al 25.\n",
        "set1=[random.randint(1,25) for _ in range(100)]\n",
        "print(len(set1))\n",
        "set1=set(set1)\n",
        "print(set1)\n",
        "print(len(set1))\n",
        "#Comprueba la longitud de tu set.\n",
        "#Crea una lista de 5 numeros aleatorios del 1 al 10 y comprueba si cada valor aparece en el set inicial.\n",
        "lista5=[random.randint(1,5) for _ in range(5)]\n",
        "for i in range(0,5):\n",
        "  if lista5[i] in set1:\n",
        "    print(\"El elemento \",lista5[i], \"se encuentra en el conjunto\")\n"
      ],
      "execution_count": 63,
      "outputs": [
        {
          "output_type": "stream",
          "text": [
            "100\n",
            "{1, 2, 3, 4, 5, 6, 7, 8, 9, 10, 11, 12, 13, 14, 15, 16, 17, 18, 19, 20, 21, 22, 23, 24, 25}\n",
            "25\n",
            "El elemento  3 se encuentra en el conjunto\n",
            "El elemento  3 se encuentra en el conjunto\n",
            "El elemento  2 se encuentra en el conjunto\n",
            "El elemento  2 se encuentra en el conjunto\n",
            "El elemento  3 se encuentra en el conjunto\n"
          ],
          "name": "stdout"
        }
      ]
    },
    {
      "cell_type": "code",
      "metadata": {
        "id": "lYfINcKRR77I"
      },
      "source": [
        ""
      ],
      "execution_count": null,
      "outputs": []
    },
    {
      "cell_type": "code",
      "metadata": {
        "id": "Xx3bppSPYu4K"
      },
      "source": [
        ""
      ],
      "execution_count": null,
      "outputs": []
    }
  ]
}